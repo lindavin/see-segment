{
 "cells": [
  {
   "cell_type": "code",
   "execution_count": null,
   "id": "5a4d12a2",
   "metadata": {},
   "outputs": [],
   "source": [
    "import numpy as np\n",
    "import imageio\n",
    "\n",
    "# img = imageio.imread('Image_data/Examples/AA_Chameleon.jpg')\n",
    "# gmask = imageio.imread('Image_data/Examples/AA_Chameleon_GT.png')\n",
    "\n",
    "img = imageio.imread('Image_data/Examples/Airpods.JPEG')\n",
    "gmask = imageio.imread('Image_data/Examples/Airpods_GT.png')\n",
    "\n",
    "\n",
    "a = np.array((img, img))\n",
    "b = np.array((gmask, gmask))"
   ]
  },
  {
   "cell_type": "code",
   "execution_count": null,
   "id": "0c043c6e",
   "metadata": {},
   "outputs": [],
   "source": [
    "import see.tpot_see.colorspace_wrapper"
   ]
  },
  {
   "cell_type": "code",
   "execution_count": null,
   "id": "7288e029",
   "metadata": {},
   "outputs": [],
   "source": [
    "seg_config_dict = {\n",
    "    'see.tpot_see.segmentors_wrapper.TPOTSegmentorWrapper': {\n",
    "        'algorithm': ['ColorThreshold', 'Felzenszwalb', 'Slic', 'Watershed', 'Chan_Vese'],\n",
    "        'alpha1': [float(i) / 256 for i in range(0, 256)],\n",
    "        'alpha2': [float(i) / 256 for i in range(0, 256)],\n",
    "        'beta1': [float(i) / 256 for i in range(0, 256)],\n",
    "        'beta2': [float(i) / 256 for i in range(0, 256)],\n",
    "        'gamma1': [float(i) / 256 for i in range(0, 256)],\n",
    "        'gamma2': [float(i) / 256 for i in range(0, 256)],\n",
    "        'n_segments': [i for i in range(0, 10)],\n",
    "        'max_iter': [i for i in range(1, 20)]\n",
    "    },\n",
    "    'see.tpot_see.colorspace_wrapper.TPOTColorSpaceWrapper': {\n",
    "        'colorspace': [\n",
    "            'RGB',\n",
    "            'HSV',\n",
    "            'RGB CIE',\n",
    "            'XYZ',\n",
    "            'YUV',\n",
    "            'YIQ',\n",
    "            'YPbPr',\n",
    "            'YCbCr',\n",
    "            'YDbDr'],\n",
    "            'multichannel': [True, False],\n",
    "            'channel': [0, 1, 2],\n",
    "    }\n",
    "}"
   ]
  },
  {
   "cell_type": "code",
   "execution_count": null,
   "id": "0b2a89c5",
   "metadata": {},
   "outputs": [],
   "source": [
    "from see.tpot_see.tpot_see import TPOTSegmentor\n",
    "\n",
    "tpot = TPOTSegmentor(generations=20, population_size=3, cv=2, verbosity=2, config_dict=seg_config_dict)\n",
    "tpot.fit(a, b)"
   ]
  },
  {
   "cell_type": "code",
   "execution_count": null,
   "id": "a45809be",
   "metadata": {},
   "outputs": [],
   "source": [
    "tpot.score(np.array((img, )), np.array((gmask, )))"
   ]
  },
  {
   "cell_type": "code",
   "execution_count": null,
   "id": "56a0ded2",
   "metadata": {},
   "outputs": [],
   "source": [
    "print(tpot.export())"
   ]
  },
  {
   "cell_type": "code",
   "execution_count": null,
   "id": "72cfb743",
   "metadata": {},
   "outputs": [],
   "source": [
    "import matplotlib.pyplot as plt\n",
    "mask = tpot.predict(np.array((img,)))[0]\n",
    "\n",
    "plt.figure(figsize=(20, 10))\n",
    "plt.subplot(121)\n",
    "plt.imshow(img)\n",
    "plt.title(\"Original Image\")\n",
    "plt.axis('off')\n",
    "\n",
    "plt.subplot(122)\n",
    "plt.imshow(mask)\n",
    "plt.title(\"Segmentation\")\n",
    "plt.axis('off')\n",
    "\n",
    "plt.tight_layout\n",
    "plt.show()"
   ]
  },
  {
   "cell_type": "code",
   "execution_count": null,
   "id": "5f7fecb0",
   "metadata": {},
   "outputs": [],
   "source": [
    "from see.Segment_Fitness import FitnessFunction\n",
    "print(f\"accuracy: {1 - FitnessFunction(mask, gmask)[0]}\")\n",
    "print(f\"fitness: {FitnessFunction(mask, gmask)[0]}\")"
   ]
  }
 ],
 "metadata": {
  "kernelspec": {
   "display_name": "Python 3 (ipykernel)",
   "language": "python",
   "name": "python3"
  },
  "language_info": {
   "codemirror_mode": {
    "name": "ipython",
    "version": 3
   },
   "file_extension": ".py",
   "mimetype": "text/x-python",
   "name": "python",
   "nbconvert_exporter": "python",
   "pygments_lexer": "ipython3",
   "version": "3.9.12"
  }
 },
 "nbformat": 4,
 "nbformat_minor": 5
}
